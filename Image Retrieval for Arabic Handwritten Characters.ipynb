{
  "cells": [
    {
      "cell_type": "markdown",
      "metadata": {
        "id": "6OoLaW7vo3eC"
      },
      "source": [
        "## Arabic Handwritten Character Search**\n"
      ]
    },
    {
      "cell_type": "markdown",
      "metadata": {
        "id": "43-3OiiSJurY"
      },
      "source": [
        "# Download Data"
      ]
    },
    {
      "cell_type": "markdown",
      "metadata": {
        "id": "IF8OOwmTw7MC"
      },
      "source": [
        "### Query Image"
      ]
    },
    {
      "cell_type": "code",
      "execution_count": null,
      "metadata": {
        "execution": {
          "iopub.execute_input": "2025-02-18T06:30:04.904637Z",
          "iopub.status.busy": "2025-02-18T06:30:04.904181Z",
          "iopub.status.idle": "2025-02-18T06:30:04.909035Z",
          "shell.execute_reply": "2025-02-18T06:30:04.907557Z",
          "shell.execute_reply.started": "2025-02-18T06:30:04.904603Z"
        },
        "id": "FQPjN6xPvssH",
        "trusted": true
      },
      "outputs": [],
      "source": [
        "import os\n",
        "\n",
        "# # Set KaggleHub cache to a directory inside /content/\n",
        "os.environ[\"KAGGLEHUB_CACHE\"] = \"/content/data\""
      ]
    },
    {
      "cell_type": "code",
      "execution_count": 25,
      "metadata": {
        "colab": {
          "base_uri": "https://localhost:8080/",
          "height": 86
        },
        "id": "zb3_G3UxudPV",
        "outputId": "0951d694-5a5b-4353-b5a6-33cf7ca09de3",
        "trusted": true
      },
      "outputs": [
        {
          "name": "stdout",
          "output_type": "stream",
          "text": [
            "Warning: Looks like you're using an outdated `kagglehub` version (installed: 0.3.7), please consider upgrading to the latest version (0.3.8).\n"
          ]
        },
        {
          "data": {
            "image/jpeg": "[encoded data removed]",
            "image/png": "[encoded data removed]",
            "text/plain": [
              "<PIL.PngImagePlugin.PngImageFile image mode=L size=32x32>"
            ]
          },
          "execution_count": 25,
          "metadata": {},
          "output_type": "execute_result"
        }
      ],
      "source": [
        "import kagglehub\n",
        "from PIL import Image\n",
        "import os\n",
        "\n",
        "path = kagglehub.dataset_download(\"mohammad2012191/character\")\n",
        "raw_query_image = Image.open(os.path.join(path,\"char.png\"))\n",
        "raw_query_image"
      ]
    },
    {
      "cell_type": "markdown",
      "metadata": {
        "id": "BQzaaxRWw9I6"
      },
      "source": [
        "### Arabic Characters Dataset"
      ]
    },
    {
      "cell_type": "code",
      "execution_count": 26,
      "metadata": {
        "colab": {
          "base_uri": "https://localhost:8080/"
        },
        "id": "M83HESLawt9N",
        "outputId": "39d36701-678c-400b-b28b-03a944b721e0",
        "trusted": true
      },
      "outputs": [
        {
          "name": "stdout",
          "output_type": "stream",
          "text": [
            "Warning: Looks like you're using an outdated `kagglehub` version (installed: 0.3.7), please consider upgrading to the latest version (0.3.8).\n",
            "Path to dataset files: /content/data/datasets/mohammad2012191/arabic-chars/versions/3\n"
          ]
        }
      ],
      "source": [
        "import kagglehub\n",
        "\n",
        "# Download latest version\n",
        "dataset_path = kagglehub.dataset_download(\"mohammad2012191/arabic-chars\")\n",
        "\n",
        "print(\"Path to dataset files:\", dataset_path)"
      ]
    },
    {
      "cell_type": "markdown",
      "metadata": {
        "id": "1UsLqWiZ2gdt"
      },
      "source": [
        "# Build a custom dataset class for the data"
      ]
    },
    {
      "cell_type": "code",
      "execution_count": null,
      "metadata": {
        "execution": {
          "iopub.execute_input": "2025-02-18T06:30:05.649942Z",
          "iopub.status.busy": "2025-02-18T06:30:05.649623Z",
          "iopub.status.idle": "2025-02-18T06:30:05.657730Z",
          "shell.execute_reply": "2025-02-18T06:30:05.656457Z",
          "shell.execute_reply.started": "2025-02-18T06:30:05.649915Z"
        },
        "id": "GOkfhgZpxLK0",
        "trusted": true
      },
      "outputs": [],
      "source": [
        "import os\n",
        "import glob\n",
        "from PIL import Image\n",
        "from torch.utils.data import Dataset, DataLoader\n",
        "import torchvision.transforms as transforms\n",
        "\n",
        "class ArabicHandwritingDataset(Dataset):\n",
        "    def __init__(self, root_dir, transform=None):\n",
        "        self.root_dir = root_dir\n",
        "        self.image_paths = glob.glob(os.path.join(root_dir, '**/*.png'), recursive=True) # Use glob to extract images paths from root_dir\n",
        "        self.transform = transform\n",
        "\n",
        "    def __len__(self):\n",
        "        return len(self.image_paths) # Just return how many images we have\n",
        "\n",
        "    def __getitem__(self, idx):\n",
        "        img_path = self.image_paths[idx]\n",
        "        image = Image.open(img_path) # Write a line to load the image from img_path\n",
        "        label = os.path.basename(os.path.dirname(img_path)) # Write a line to extract the label from img_path\n",
        "        if self.transform:\n",
        "            image = self.transform(image)\n",
        "        return image, label"
      ]
    },
    {
      "cell_type": "code",
      "execution_count": null,
      "metadata": {
        "colab": {
          "base_uri": "https://localhost:8080/"
        },
        "execution": {
          "iopub.execute_input": "2025-02-18T06:30:05.660017Z",
          "iopub.status.busy": "2025-02-18T06:30:05.659526Z",
          "iopub.status.idle": "2025-02-18T06:30:05.690778Z",
          "shell.execute_reply": "2025-02-18T06:30:05.689570Z",
          "shell.execute_reply.started": "2025-02-18T06:30:05.659980Z"
        },
        "id": "hYZdiQhyJurc",
        "outputId": "c9a444b0-e66c-43fb-edbc-6c998543b286",
        "trusted": true
      },
      "outputs": [
        {
          "name": "stdout",
          "output_type": "stream",
          "text": [
            "Total images: 668\n"
          ]
        }
      ],
      "source": [
        "transform = transforms.Compose([\n",
        "    transforms.Grayscale(3),\n",
        "    transforms.Resize((32, 32)), # Resize to 32*32\n",
        "    transforms.ToTensor(),# Convert to Tensor\n",
        "    transforms.Normalize(mean=[0.485, 0.456, 0.406], std=[0.229, 0.224, 0.225]) # Normalize using Imagenet mean and std\n",
        "])\n",
        "\n",
        "\n",
        "train_dataset = ArabicHandwritingDataset(root_dir=os.path.join(dataset_path,\"chars images\"), transform=transform)\n",
        "train_loader = DataLoader(train_dataset, batch_size=64, shuffle=True) # TO DO\n",
        "print(f\"Total images: {len(train_dataset)}\")\n",
        "\n",
        "\n",
        "\n",
        "transformed_query_image = transform(raw_query_image) # Apply the transform to raw_query_image"
      ]
    },
    {
      "cell_type": "markdown",
      "metadata": {
        "id": "KlsU08eB1RPQ"
      },
      "source": [
        "# Use EfficientNet B3 to extract features."
      ]
    },
    {
      "cell_type": "markdown",
      "metadata": {
        "id": "UXqoQqeFJurd"
      },
      "source": [
        "### Extract Features for the dataset images"
      ]
    },
    {
      "cell_type": "code",
      "execution_count": null,
      "metadata": {
        "id": "k_R5kalRJurd",
        "trusted": true
      },
      "outputs": [],
      "source": [
        "import torch\n",
        "from torchvision.models import efficientnet_b3\n",
        "\n",
        "# Load pretrained efficientnet_b3 model\n",
        "model = efficientnet_b3(pretrained=True)\n",
        "model.eval()  # Set the model to evaluation mode\n",
        "\n",
        "# Use efficientnet_b3 to extract features\n",
        "all_features = []\n",
        "all_images = []\n",
        "with torch.no_grad(): # Disable gradient calculation during feature extraction\n",
        "    for images, _ in train_loader:\n",
        "        features = model.features(images)  # Extract features using the features part of the model\n",
        "        all_features.append(features)\n",
        "        all_images.append(images)\n",
        "\n",
        "    #Extract features for the query image\n",
        "    query_features = model.features(transformed_query_image.unsqueeze(0))\n",
        "\n",
        "\n",
        "# Convert features to numpy and concatenate them.\n",
        "import numpy as np\n",
        "all_features = torch.cat(all_features, dim=0).numpy()\n",
        "all_images = torch.cat(all_images, dim=0).numpy()\n",
        "query_features = query_features.numpy()\n"
      ]
    },
    {
      "cell_type": "markdown",
      "metadata": {
        "id": "nrnv6Q1OJurd"
      },
      "source": [
        "### Extract Features for the query image"
      ]
    },
    {
      "cell_type": "code",
      "execution_count": null,
      "metadata": {
        "execution": {
          "iopub.execute_input": "2025-02-18T06:30:13.453921Z",
          "iopub.status.busy": "2025-02-18T06:30:13.453350Z",
          "iopub.status.idle": "2025-02-18T06:30:13.492599Z",
          "shell.execute_reply": "2025-02-18T06:30:13.491384Z",
          "shell.execute_reply.started": "2025-02-18T06:30:13.453871Z"
        },
        "id": "lYyANrzZJure",
        "trusted": true
      },
      "outputs": [],
      "source": [
        "query_image_feats = model.features(transformed_query_image.unsqueeze(0)).detach().numpy()\n",
        "# I need to detach the tensor to convert to numpy"
      ]
    },
    {
      "cell_type": "markdown",
      "metadata": {
        "id": "33H1GIb41uG0"
      },
      "source": [
        "# Get the indices of top 5 images using Cosine Similarity"
      ]
    },
    {
      "cell_type": "code",
      "execution_count": null,
      "metadata": {
        "colab": {
          "base_uri": "https://localhost:8080/"
        },
        "execution": {
          "iopub.execute_input": "2025-02-18T06:30:13.494220Z",
          "iopub.status.busy": "2025-02-18T06:30:13.493875Z",
          "iopub.status.idle": "2025-02-18T06:30:13.512319Z",
          "shell.execute_reply": "2025-02-18T06:30:13.510810Z",
          "shell.execute_reply.started": "2025-02-18T06:30:13.494190Z"
        },
        "id": "-0gHEjRi10FQ",
        "outputId": "f9c531ed-99e9-4d02-da0c-329dc434538d",
        "trusted": true
      },
      "outputs": [
        {
          "data": {
            "text/plain": [
              "array([191, 128, 328, 568,  93])"
            ]
          },
          "execution_count": 31,
          "metadata": {},
          "output_type": "execute_result"
        }
      ],
      "source": [
        "import numpy as np\n",
        "from sklearn.metrics.pairwise import cosine_similarity\n",
        "\n",
        "# Reshape the features to 2D before calculating cosine similarity\n",
        "all_features_2d = all_features.reshape(all_features.shape[0], -1)  # Reshape to (num_samples, num_features) # -1 === num_of_features\n",
        "query_image_feats_2d = query_image_feats.reshape(1, -1)  # Reshape to (1, num_features)\n",
        "\n",
        "\n",
        "# Calculate cosine similarity between query image features and all dataset image features\n",
        "similarities = cosine_similarity(query_image_feats_2d, all_features_2d)\n",
        "\n",
        "# Get the indices of the top 5 most similar images\n",
        "top_5_indices = np.argsort(similarities[0])[::-1][:5]\n",
        "\n",
        "top_5_indices"
      ]
    },
    {
      "cell_type": "markdown",
      "metadata": {
        "id": "viNWPZsH12fG"
      },
      "source": [
        "# Fix the errors in the following code to plot the most 5 similar images"
      ]
    },
    {
      "cell_type": "code",
      "execution_count": null,
      "metadata": {
        "colab": {
          "base_uri": "https://localhost:8080/",
          "height": 363
        },
        "id": "7nwlMW-518q4",
        "outputId": "7f20f93c-a262-4dc3-aa77-16756f9fac32",
        "trusted": true
      },
      "outputs": [
        {
          "name": "stderr",
          "output_type": "stream",
          "text": [
            "WARNING:matplotlib.image:Clipping input data to the valid range for imshow with RGB data ([0..1] for floats or [0..255] for integers). Got range [-2.117904..2.64].\n",
            "WARNING:matplotlib.image:Clipping input data to the valid range for imshow with RGB data ([0..1] for floats or [0..255] for integers). Got range [-2.117904..2.64].\n",
            "WARNING:matplotlib.image:Clipping input data to the valid range for imshow with RGB data ([0..1] for floats or [0..255] for integers). Got range [-2.117904..2.64].\n",
            "WARNING:matplotlib.image:Clipping input data to the valid range for imshow with RGB data ([0..1] for floats or [0..255] for integers). Got range [-2.117904..2.64].\n",
            "WARNING:matplotlib.image:Clipping input data to the valid range for imshow with RGB data ([0..1] for floats or [0..255] for integers). Got range [-2.117904..2.64].\n",
            "WARNING:matplotlib.image:Clipping input data to the valid range for imshow with RGB data ([0..1] for floats or [0..255] for integers). Got range [-2.117904..2.64].\n"
          ]
        },
        {
          "data": {
            "image/png": "[encoded data removed]",
            "text/plain": [
              "<Figure size 1500x300 with 6 Axes>"
            ]
          },
          "metadata": {},
          "output_type": "display_data"
        }
      ],
      "source": [
        "import numpy as np\n",
        "import matplotlib.pyplot as plt\n",
        "\n",
        "# Display query & retrieved images with similarity scores\n",
        "fig, axes = plt.subplots(1, 6, figsize=(15, 3))\n",
        "# Query image\n",
        "axes[0].imshow(np.transpose(transformed_query_image.squeeze(0).numpy(), (1, 2, 0))) \n",
        "axes[0].set_title(\"Query Image\")\n",
        "axes[0].axis(\"off\")\n",
        "# Retrieved similar images with similarity scores\n",
        "for i, idx in enumerate(top_5_indices):\n",
        "    image = all_images[idx]\n",
        "    similarity_score = similarities[0][idx]  # Get similarity score\n",
        "    axes[i + 1].imshow(np.transpose(image, (1, 2, 0))) \n",
        "    axes[i + 1].set_title(f\"Similar {i+1}\\n{100*similarity_score:.2f}%\")  # Show similarity score\n",
        "    axes[i + 1].axis(\"off\")\n",
        "plt.show()"
      ]
    }
  ],
  "metadata": {
    "colab": {
      "provenance": []
    },
    "kaggle": {
      "accelerator": "none",
      "dataSources": [
        {
          "datasetId": 6683776,
          "sourceId": 10779845,
          "sourceType": "datasetVersion"
        },
        {
          "datasetId": 6683904,
          "sourceId": 10779858,
          "sourceType": "datasetVersion"
        }
      ],
      "dockerImageVersionId": 30886,
      "isGpuEnabled": false,
      "isInternetEnabled": true,
      "language": "python",
      "sourceType": "notebook"
    },
    "kernelspec": {
      "display_name": "Python 3",
      "language": "python",
      "name": "python3"
    },
    "language_info": {
      "codemirror_mode": {
        "name": "ipython",
        "version": 3
      },
      "file_extension": ".py",
      "mimetype": "text/x-python",
      "name": "python",
      "nbconvert_exporter": "python",
      "pygments_lexer": "ipython3",
      "version": "3.10.12"
    }
  },
  "nbformat": 4,
  "nbformat_minor": 0
}
